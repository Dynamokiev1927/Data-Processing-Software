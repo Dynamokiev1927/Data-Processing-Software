{
 "cells": [
  {
   "cell_type": "code",
   "execution_count": 2,
   "id": "2f775a4d",
   "metadata": {},
   "outputs": [],
   "source": [
    "import pandas as pd\n",
    "\n",
    "hike_data = pd.read_csv('C:/Users/moroz/Music/hike_long.csv')\n",
    "clean_hike_trails = hike_data\n",
    "clean_hike_trails[['rating', 'highpoint', 'gain']] = clean_hike_trails[['rating', 'highpoint', 'gain']] \\\n",
    "    .apply(pd.to_numeric)"
   ]
  },
  {
   "cell_type": "code",
   "execution_count": 4,
   "id": "b638a76d",
   "metadata": {},
   "outputs": [],
   "source": [
    "def get_trip_value(length):\n",
    "    if length.find('roundtrip') != -1:\n",
    "        return 'roundtrip'\n",
    "    elif length.find('trails') != -1:\n",
    "        return 'trails'\n",
    "    elif length.find('one-way') != -1:\n",
    "        return 'one-way'\n",
    "    else:\n",
    "        return None\n",
    "\n",
    "\n",
    "clean_hike_trails['trip'] = clean_hike_trails['length'].apply(get_trip_value)"
   ]
  },
  {
   "cell_type": "code",
   "execution_count": 5,
   "id": "b4ef2934",
   "metadata": {},
   "outputs": [],
   "source": [
    "clean_hike_trails['length_total'] = pd.to_numeric(clean_hike_trails['length'].str.split(' ').str[0])\n",
    "clean_hike_trails['length_total'] = clean_hike_trails.apply(lambda x: x['length_total'] * 2 if x['trip'] == 'one-way'\n",
    "else x['length_total'], axis=1)"
   ]
  },
  {
   "cell_type": "code",
   "execution_count": 6,
   "id": "ad5274fa",
   "metadata": {},
   "outputs": [],
   "source": [
    "clean_hike_trails[\"location_general\"] = clean_hike_trails[\"location\"].str.split(\" -- \").str[0]"
   ]
  },
  {
   "cell_type": "code",
   "execution_count": 7,
   "id": "1ca267ec",
   "metadata": {},
   "outputs": [],
   "source": [
    "clean_hike_trails[\"row_id\"] = clean_hike_trails.index"
   ]
  },
  {
   "cell_type": "code",
   "execution_count": 8,
   "id": "2b58ad5c",
   "metadata": {},
   "outputs": [
    {
     "name": "stdout",
     "output_type": "stream",
     "text": [
      "Question 1\n",
      "318\n",
      "Question 2\n",
      "694\n",
      "Question 3\n",
      "['Dogs allowed on leash', 'Wildlife', 'Good for kids', 'Lakes', 'Fall foliage', 'Ridges/passes', 'Established campsites', 'Mountain views', 'Old growth', 'Waterfalls', 'Wildflowers/Meadows', 'Rivers', 'Dogs not allowed', 'Coast', 'Summits']\n",
      "Question 4\n",
      "0.0    1152\n",
      "Name: rating, dtype: int64\n",
      "Question 5\n",
      "942\n"
     ]
    }
   ],
   "source": [
    "print('Question 1')\n",
    "print(len(clean_hike_trails[clean_hike_trails['rating'] > 4.9]))\n",
    "\n",
    "print('Question 2')\n",
    "print(len(clean_hike_trails[clean_hike_trails[\"features\"].str.contains(\"Good for kids\")]))\n",
    "\n",
    "print('Question 3')\n",
    "print(clean_hike_trails.drop_duplicates(\"features\")[\"features\"].tolist())\n",
    "\n",
    "print('Question 4')\n",
    "print(clean_hike_trails[\"rating\"].value_counts().head(1))\n",
    "\n",
    "print('Question 5')\n",
    "print(len(clean_hike_trails[clean_hike_trails[\"location_general\"] == 'Mount Rainier Area']))"
   ]
  },
  {
   "cell_type": "code",
   "execution_count": null,
   "id": "d167b658",
   "metadata": {},
   "outputs": [],
   "source": []
  }
 ],
 "metadata": {
  "kernelspec": {
   "display_name": "Python 3 (ipykernel)",
   "language": "python",
   "name": "python3"
  },
  "language_info": {
   "codemirror_mode": {
    "name": "ipython",
    "version": 3
   },
   "file_extension": ".py",
   "mimetype": "text/x-python",
   "name": "python",
   "nbconvert_exporter": "python",
   "pygments_lexer": "ipython3",
   "version": "3.9.12"
  }
 },
 "nbformat": 4,
 "nbformat_minor": 5
}
