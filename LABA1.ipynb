{
 "cells": [
  {
   "cell_type": "code",
   "execution_count": 1,
   "id": "6c3eac5d",
   "metadata": {},
   "outputs": [],
   "source": [
    "import pandas as pd\n",
    "\n",
    "air_quality = pd.read_csv('C:/Users/moroz/Music/airquality.csv')"
   ]
  },
  {
   "cell_type": "code",
   "execution_count": 2,
   "id": "46b8c316",
   "metadata": {},
   "outputs": [
    {
     "name": "stdout",
     "output_type": "stream",
     "text": [
      "Question 1\n",
      "['Ozone' 'Solar.R' 'Wind' 'Temp' 'Month' 'Day']\n"
     ]
    }
   ],
   "source": [
    "print('Question 1')\n",
    "print(air_quality.columns.values)"
   ]
  },
  {
   "cell_type": "code",
   "execution_count": 3,
   "id": "a136fec9",
   "metadata": {},
   "outputs": [
    {
     "name": "stdout",
     "output_type": "stream",
     "text": [
      "Question 2\n",
      "[0, 1, 2, 3, 4, 5, 6, 7, 8, 9, 10, 11, 12, 13, 14, 15, 16, 17, 18, 19, 20, 21, 22, 23, 24, 25, 26, 27, 28, 29, 30, 31, 32, 33, 34, 35, 36, 37, 38, 39, 40, 41, 42, 43, 44, 45, 46, 47, 48, 49, 50, 51, 52, 53, 54, 55, 56, 57, 58, 59, 60, 61, 62, 63, 64, 65, 66, 67, 68, 69, 70, 71, 72, 73, 74, 75, 76, 77, 78, 79, 80, 81, 82, 83, 84, 85, 86, 87, 88, 89, 90, 91, 92, 93, 94, 95, 96, 97, 98, 99, 100, 101, 102, 103, 104, 105, 106, 107, 108, 109, 110, 111, 112, 113, 114, 115, 116, 117, 118, 119, 120, 121, 122, 123, 124, 125, 126, 127, 128, 129, 130, 131, 132, 133, 134, 135, 136, 137, 138, 139, 140, 141, 142, 143, 144, 145, 146, 147, 148, 149, 150, 151, 152]\n"
     ]
    }
   ],
   "source": [
    "print('Question 2')\n",
    "print(list(air_quality.index))"
   ]
  },
  {
   "cell_type": "code",
   "execution_count": 4,
   "id": "55f34ce2",
   "metadata": {},
   "outputs": [
    {
     "name": "stdout",
     "output_type": "stream",
     "text": [
      "Question 3\n",
      "   Ozone  Solar.R  Wind  Temp  Month  Day\n",
      "0   41.0    190.0   7.4    67      5    1\n",
      "1   36.0    118.0   8.0    72      5    2\n",
      "2   12.0    149.0  12.6    74      5    3\n",
      "3   18.0    313.0  11.5    62      5    4\n",
      "4    NaN      NaN  14.3    56      5    5\n",
      "5   28.0      NaN  14.9    66      5    6\n"
     ]
    }
   ],
   "source": [
    "print('Question 3')\n",
    "print(air_quality.head(6))"
   ]
  },
  {
   "cell_type": "code",
   "execution_count": 5,
   "id": "1028368b",
   "metadata": {},
   "outputs": [
    {
     "name": "stdout",
     "output_type": "stream",
     "text": [
      "Question 4\n",
      "153\n"
     ]
    }
   ],
   "source": [
    "print('Question 4')\n",
    "print(len(air_quality.index))"
   ]
  },
  {
   "cell_type": "code",
   "execution_count": 6,
   "id": "316d5901",
   "metadata": {},
   "outputs": [
    {
     "name": "stdout",
     "output_type": "stream",
     "text": [
      "Question 5\n",
      "     Ozone  Solar.R  Wind  Temp  Month  Day\n",
      "147   14.0     20.0  16.6    63      9   25\n",
      "148   30.0    193.0   6.9    70      9   26\n",
      "149    NaN    145.0  13.2    77      9   27\n",
      "150   14.0    191.0  14.3    75      9   28\n",
      "151   18.0    131.0   8.0    76      9   29\n",
      "152   20.0    223.0  11.5    68      9   30\n"
     ]
    }
   ],
   "source": [
    "print('Question 5')\n",
    "print(air_quality.tail(6))"
   ]
  },
  {
   "cell_type": "code",
   "execution_count": 7,
   "id": "c2b2deae",
   "metadata": {},
   "outputs": [
    {
     "name": "stdout",
     "output_type": "stream",
     "text": [
      "Question 6\n",
      "37\n"
     ]
    }
   ],
   "source": [
    "print('Question 6')\n",
    "print(air_quality['Ozone'].isnull().sum())"
   ]
  },
  {
   "cell_type": "code",
   "execution_count": 8,
   "id": "673597e9",
   "metadata": {},
   "outputs": [
    {
     "name": "stdout",
     "output_type": "stream",
     "text": [
      "Question 7\n",
      "42.12931034482759\n"
     ]
    }
   ],
   "source": [
    "print('Question 7')\n",
    "print(air_quality.dropna(subset=['Ozone'])['Ozone'].mean())"
   ]
  },
  {
   "cell_type": "code",
   "execution_count": 9,
   "id": "dd239ba0",
   "metadata": {},
   "outputs": [
    {
     "name": "stdout",
     "output_type": "stream",
     "text": [
      "Question 8\n",
      "     Ozone  Solar.R  Wind  Temp  Month  Day\n",
      "68    97.0    267.0   6.3    92      7    8\n",
      "69    97.0    272.0   5.7    92      7    9\n",
      "119   76.0    203.0   9.7    97      8   28\n",
      "120  118.0    225.0   2.3    94      8   29\n",
      "121   84.0    237.0   6.3    96      8   30\n",
      "122   85.0    188.0   6.3    94      8   31\n",
      "123   96.0    167.0   6.9    91      9    1\n",
      "124   78.0    197.0   5.1    92      9    2\n",
      "125   73.0    183.0   2.8    93      9    3\n",
      "126   91.0    189.0   4.6    93      9    4\n"
     ]
    }
   ],
   "source": [
    "print('Question 8')\n",
    "print(air_quality[(air_quality['Ozone'] > 31) & (air_quality['Temp'] > 90)])"
   ]
  },
  {
   "cell_type": "code",
   "execution_count": 10,
   "id": "41f6ea9a",
   "metadata": {},
   "outputs": [
    {
     "name": "stdout",
     "output_type": "stream",
     "text": [
      "Question 9\n",
      "[42.12931034482759, 185.93150684931507, 9.95751633986928, 77.88235294117646, 6.993464052287582, 15.803921568627452]\n"
     ]
    }
   ],
   "source": [
    "print('Question 9')\n",
    "means = []\n",
    "for col in air_quality.columns.values:\n",
    "    means.append(air_quality.dropna(subset=[col])[col].mean())\n",
    "print(means)"
   ]
  },
  {
   "cell_type": "code",
   "execution_count": 11,
   "id": "d2bcd3a3",
   "metadata": {},
   "outputs": [
    {
     "name": "stdout",
     "output_type": "stream",
     "text": [
      "Question 10\n",
      "[32.987884514433944, 90.05842222838169, 3.5230013522125962, 9.465269740971454, 1.4165224840123145, 8.864520368425419]\n"
     ]
    }
   ],
   "source": [
    "print('Question 10')\n",
    "stds = []\n",
    "for col in air_quality.columns.values:\n",
    "    stds.append(air_quality.dropna(subset=[col])[col].std())\n",
    "print(stds)"
   ]
  },
  {
   "cell_type": "code",
   "execution_count": 12,
   "id": "27fac7f5",
   "metadata": {},
   "outputs": [
    {
     "name": "stdout",
     "output_type": "stream",
     "text": [
      "Question 11\n",
      "[nan, nan, nan, nan, 23.615384615384617, 29.444444444444443, 59.11538461538461, 59.96153846153846, 31.448275862068964, nan, nan, nan]\n"
     ]
    }
   ],
   "source": [
    "print('Question 11')\n",
    "monthly_means = []\n",
    "for month in range(1, 13):\n",
    "    monthly_means.append(air_quality[(air_quality['Ozone'].notnull()) & (air_quality['Month'] == month)]['Ozone']\n",
    "                         .mean())\n",
    "print(monthly_means)"
   ]
  },
  {
   "cell_type": "code",
   "execution_count": 13,
   "id": "fcd6db9e",
   "metadata": {},
   "outputs": [
    {
     "name": "stdout",
     "output_type": "stream",
     "text": [
      "Question 12\n",
      "    Ozone  Solar.R  Wind  Temp  Month  Day\n",
      "26    NaN      NaN   8.0    57      5   27\n",
      "64    NaN    101.0  10.9    84      7    4\n",
      "4     NaN      NaN  14.3    56      5    5\n",
      "73   27.0    175.0  14.9    81      7   13\n",
      "56    NaN    127.0   8.0    78      6   26\n"
     ]
    }
   ],
   "source": [
    "print('Question 12')\n",
    "print(air_quality.sample(5))"
   ]
  },
  {
   "cell_type": "code",
   "execution_count": null,
   "id": "58db76eb",
   "metadata": {},
   "outputs": [],
   "source": []
  }
 ],
 "metadata": {
  "kernelspec": {
   "display_name": "Python 3 (ipykernel)",
   "language": "python",
   "name": "python3"
  },
  "language_info": {
   "codemirror_mode": {
    "name": "ipython",
    "version": 3
   },
   "file_extension": ".py",
   "mimetype": "text/x-python",
   "name": "python",
   "nbconvert_exporter": "python",
   "pygments_lexer": "ipython3",
   "version": "3.9.12"
  }
 },
 "nbformat": 4,
 "nbformat_minor": 5
}
